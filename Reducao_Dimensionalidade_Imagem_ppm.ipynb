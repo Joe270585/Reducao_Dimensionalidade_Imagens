{
  "nbformat": 4,
  "nbformat_minor": 0,
  "metadata": {
    "colab": {
      "provenance": [],
      "authorship_tag": "ABX9TyMTxAPguZeJ3Akwv5jicfPD",
      "include_colab_link": true
    },
    "kernelspec": {
      "name": "python3",
      "display_name": "Python 3"
    },
    "language_info": {
      "name": "python"
    }
  },
  "cells": [
    {
      "cell_type": "markdown",
      "metadata": {
        "id": "view-in-github",
        "colab_type": "text"
      },
      "source": [
        "<a href=\"https://colab.research.google.com/github/Joe270585/Reducao_Dimensionalidade_Imagens/blob/main/Reducao_Dimensionalidade_Imagem_ppm.ipynb\" target=\"_parent\"><img src=\"https://colab.research.google.com/assets/colab-badge.svg\" alt=\"Open In Colab\"/></a>"
      ]
    },
    {
      "cell_type": "markdown",
      "metadata": {
        "id": "9ae880f1"
      },
      "source": [
        "## Carregar a imagem\n",
        "\n",
        "### Subtask:\n",
        "Como esse código é totalmente sem uso de bibliotecas para tratamento de imagem, as imagens carregadas nele devem ser do formato .ppm.\n"
      ]
    },
    {
      "cell_type": "code",
      "metadata": {
        "id": "ba332479"
      },
      "source": [
        "# Criando função para carregar imagem\n",
        "def load_img(filepath):\n",
        "\n",
        "    try:\n",
        "        with open(filepath, 'rb') as f:\n",
        "            # Verificando se formato está correto\n",
        "            magic_number = f.readline().strip()\n",
        "            if magic_number != b'P6':\n",
        "                print(\"Erro: Formato da imagem não suportado, o formato deve ser .ppm:\")\n",
        "                return None\n",
        "\n",
        "            # Ler comentários (ignorar linhas que começam com #)\n",
        "            while True:\n",
        "                line = f.readline().strip()\n",
        "                if not line.startswith(b'#'):\n",
        "                    break\n",
        "\n",
        "            # Ler dimensões (largura e altura)\n",
        "            dimensions = line.split()\n",
        "            if len(dimensions) != 2:\n",
        "                print(f\"Erro: Dimensão Inválida: {line}\")\n",
        "                return None\n",
        "            width = int(dimensions[0])\n",
        "            height = int(dimensions[1])\n",
        "\n",
        "            # Ler valor máximo de cor\n",
        "            max_color_value_line = f.readline().strip()\n",
        "            max_color_value = int(max_color_value_line)\n",
        "\n",
        "           # Ler dados de pixel\n",
        "           # Para P6, cada pixel tem 3 bytes (R, G, B)\n",
        "            pixel_data_size = width * height * 3\n",
        "            pixel_data_bytes = f.read(pixel_data_size)\n",
        "\n",
        "            if len(pixel_data_bytes) != pixel_data_size:\n",
        "                 print(\"Erro: Dados de pixel incompleto.\")\n",
        "                 return None\n",
        "\n",
        "            # Organizar dados de pixel numa lista de listas\n",
        "            image_data = []\n",
        "            for i in range(height):\n",
        "                row = []\n",
        "                for j in range(width):\n",
        "                    pixel_start_index = (i * width + j) * 3\n",
        "                    r = pixel_data_bytes[pixel_start_index]\n",
        "                    g = pixel_data_bytes[pixel_start_index + 1]\n",
        "                    b = pixel_data_bytes[pixel_start_index + 2]\n",
        "                    row.append([r, g, b])\n",
        "                image_data.append(row)\n",
        "\n",
        "            return image_data, width, height, max_color_value\n",
        "\n",
        "    except FileNotFoundError:\n",
        "        print(f\"Erro: Arquivo não encontrado em {filepath}\")\n",
        "        return None\n",
        "    except Exception as e:\n",
        "        print(f\"Ocorreu um erro: {e}\")\n",
        "        return None\n",
        "\n"
      ],
      "execution_count": null,
      "outputs": []
    },
    {
      "cell_type": "markdown",
      "metadata": {
        "id": "h8NHfYRSkyyq"
      },
      "source": [
        "## Exibir a imagem resultante\n",
        "\n",
        "### Subtask:\n",
        "Encontrar uma maneira de exibir os dados de pixel resultantes sem usar bibliotecas de exibição de imagem. Isso pode ser um desafio e pode exigir a criação de um arquivo de imagem simples ou a representação dos pixels de alguma outra forma.\n"
      ]
    },
    {
      "cell_type": "markdown",
      "metadata": {
        "id": "0841fcfa"
      },
      "source": [
        "## Implementar conversão para tons de cinza\n",
        "\n",
        "### Subtask:\n",
        "Desenvolver código para converter os dados de pixel coloridos (geralmente representados por valores RGB) para tons de cinza. Isso pode ser feito usando fórmulas de luminosidade ou média simples.\n"
      ]
    },
    {
      "cell_type": "code",
      "metadata": {
        "id": "c708f163"
      },
      "source": [
        "def converte_cinza(image_data, max_color_value):\n",
        "\n",
        "    # Converte dados de imagem colorida (RGB) para escala de cinza.\n",
        "    img_cinza = []\n",
        "    for row in image_data:\n",
        "        cinza_row = []\n",
        "        for pixel in row:\n",
        "            r, g, b = pixel\n",
        "            # Usando o método de luminosidade para conversão em escala de cinza\n",
        "            cinza_value = int(0.2989 * r + 0.5870 * g + 0.1140 * b)\n",
        "\n",
        "            # Garantir que o valor em escala de cinza está dentro do intervalo válido\n",
        "            cinza_value = max(0, min(cinza_value, max_color_value))\n",
        "\n",
        "            cinza_row.append(cinza_value)\n",
        "        img_cinza.append(cinza_row)\n",
        "    return img_cinza\n",
        "\n",
        "\n"
      ],
      "execution_count": null,
      "outputs": []
    },
    {
      "cell_type": "markdown",
      "metadata": {
        "id": "48532831"
      },
      "source": [
        "## Implementar conversão para preto e branco\n",
        "\n",
        "### Subtask:\n",
        "Desenvolver código para converter os dados de pixel coloridos ou em tons de cinza para preto e branco. Isso geralmente envolve a aplicação de um limiar (threshold) para decidir se um pixel se torna preto ou branco.\n"
      ]
    },
    {
      "cell_type": "code",
      "metadata": {
        "id": "8e6df777"
      },
      "source": [
        "def converte_p_b(image_data, max_color_value, threshold=None):\n",
        "\n",
        "    # Determinar se a entrada é colorida ou em escala de cinza\n",
        "    is_color = any(isinstance(pixel, list) for row in image_data for pixel in row)\n",
        "\n",
        "    if is_color:\n",
        "        # Converter a cor para escala de cinza primeiro\n",
        "        img_cinza = converte_cinza(image_data, max_color_value)\n",
        "    else:\n",
        "        # A entrada já está em escala de cinza\n",
        "        img_cinza = image_data\n",
        "\n",
        "    # Use um limiar padrão se nenhum for fornecido\n",
        "    if threshold is None:\n",
        "        threshold = max_color_value // 2\n",
        "\n",
        "    img_pb = []\n",
        "    for row in img_cinza:\n",
        "        pb_row = []\n",
        "        for pixel_value in row:\n",
        "            # Aplicar o limiar\n",
        "            if pixel_value >= threshold:\n",
        "                pb_pixel_value = max_color_value  # Branco\n",
        "            else:\n",
        "                pb_pixel_value = 0  # Preto\n",
        "            pb_row.append(pb_pixel_value)\n",
        "        img_pb.append(pb_row) # Adicionando a linha à lista de linhas\n",
        "\n",
        "\n",
        "    return img_pb\n",
        "\n",
        "\n"
      ],
      "execution_count": null,
      "outputs": []
    },
    {
      "cell_type": "code",
      "metadata": {
        "colab": {
          "base_uri": "https://localhost:8080/"
        },
        "id": "780794be",
        "outputId": "3ebd48d1-ba0b-4acd-e579-64ae421db0e9"
      },
      "source": [
        "import struct\n",
        "\n",
        "img_caminho = input(\"Entre com o caminho da imagem .ppm: \")\n",
        "\n",
        "def save_img(image_data, width, height, max_color_value, filepath, is_color=False):\n",
        "\n",
        "    try:\n",
        "        with open(filepath, 'wb') as f:\n",
        "            # Escrever o número mágico (P6 para cor, P5 para escala de cinza)\n",
        "            magic_number = b'P6' if is_color else b'P5'\n",
        "            f.write(magic_number + b'\\n')\n",
        "\n",
        "            # Escreva as dimensões\n",
        "            f.write(f\"{width} {height}\\n\".encode())\n",
        "\n",
        "            # Escrever valor máximo de cor\n",
        "            f.write(f\"{max_color_value}\\n\".encode())\n",
        "\n",
        "            # Escrever dados de pixel\n",
        "            if is_color:\n",
        "                for row in image_data:\n",
        "                    for pixel in row:\n",
        "                        f.write(struct.pack('BBB', pixel[0], pixel[1], pixel[2]))\n",
        "            else:\n",
        "                for row in image_data:\n",
        "                    for pixel_value in row:\n",
        "                        f.write(struct.pack('B', pixel_value))\n",
        "\n",
        "        print(f\"Imagem salva com sucesso em {filepath}\")\n",
        "\n",
        "    except Exception as e:\n",
        "        print(f\"Um erro ocorreu ao salvar a imagem: {e}\")\n",
        "\n",
        "# Carregando caminho da imagem\n",
        "image_info = load_img(img_caminho)\n",
        "\n",
        "if image_info:\n",
        "    image_data, width, height, max_color_value = image_info\n",
        "\n",
        "    # Processando imagem para salvar em escala de cinza\n",
        "    processed_image_data = converte_cinza(image_data, max_color_value)\n",
        "    output_filepath = \"Cinza.ppm\"\n",
        "    save_img(processed_image_data, width, height, max_color_value, output_filepath, is_color=False)\n",
        "\n",
        "    # Processando imagem para salvar em preto e branco\n",
        "    processed_image_data = converte_p_b(image_data, max_color_value)\n",
        "    output_filepath = \"Preto_e_Branco.ppm\" # Alterado o nome do ficheiro para mais clareza\n",
        "    save_img(processed_image_data, width, height, max_color_value, output_filepath, is_color=False)\n",
        "else:\n",
        "    print(\"Não foi possível carregar a imagem.\")"
      ],
      "execution_count": null,
      "outputs": [
        {
          "output_type": "stream",
          "name": "stdout",
          "text": [
            "Entre com o caminho da imagem .ppm: /content/2.ppm\n",
            "Imagem salva com sucesso em Cinza.ppm\n",
            "Imagem salva com sucesso em Preto_e_Branco.ppm\n"
          ]
        }
      ]
    }
  ]
}